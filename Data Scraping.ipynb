{
  "nbformat": 4,
  "nbformat_minor": 0,
  "metadata": {
    "colab": {
      "provenance": []
    },
    "kernelspec": {
      "name": "python3",
      "display_name": "Python 3"
    },
    "language_info": {
      "name": "python"
    }
  },
  "cells": [
    {
      "cell_type": "code",
      "execution_count": null,
      "metadata": {
        "id": "GQMlJf1amnnV"
      },
      "outputs": [],
      "source": [
        "!pip install sentence-transformers\n"
      ]
    },
    {
      "cell_type": "markdown",
      "source": [
        "  # MAIN SCRAPING CODE"
      ],
      "metadata": {
        "id": "I3qM50MnWH51"
      }
    },
    {
      "cell_type": "code",
      "source": [
        "import requests\n",
        "from bs4 import BeautifulSoup\n",
        "\n",
        "def read_url(url):\n",
        "\n",
        "    # Define custom user-agent header\n",
        "    headers = {\n",
        "        \"User-Agent\": \"Mozilla/5.0 (Windows NT 10.0; Win64; x64) AppleWebKit/537.36 (KHTML, like Gecko) Chrome/96.0.4664.110 Safari/537.36\"\n",
        "    }\n",
        "\n",
        "    # Send a GET request to the URL with custom headers\n",
        "    response = requests.get(url, headers=headers)\n",
        "    cnt = 0\n",
        "    full_text = []\n",
        "\n",
        "    # Check if the request was successful (status code 200)\n",
        "    if response.status_code == 200:\n",
        "        # Parse the HTML content of the page\n",
        "        soup = BeautifulSoup(response.content, \"html.parser\")\n",
        "\n",
        "        # Find the elements containing the data you want to scrape\n",
        "        # For example, if you want to scrape all <div> elements:\n",
        "        divs = soup.find_all(\"div\", {'id': 'inner-content'})\n",
        "        ############ divs = soup.find_all(\"div\", {'class': 'faq'})\n",
        "\n",
        "        # Print the text of each div without extra spacing\n",
        "        for div in divs:\n",
        "            # Remove extra spacing using strip()\n",
        "            div_text = div.get_text().strip()\n",
        "\n",
        "            # Print the text only if it's not empty\n",
        "            if div_text:\n",
        "                cnt+=1\n",
        "                #print(div_text)\n",
        "                full_text.append(div_text)\n",
        "\n",
        "    #else:\n",
        "        #print(\"Failed to retrieve data from the website\")\n",
        "    #print(full_text)\n",
        "    return full_text"
      ],
      "metadata": {
        "id": "0oWRivsvmose"
      },
      "execution_count": null,
      "outputs": []
    },
    {
      "cell_type": "code",
      "source": [
        "import requests\n",
        "from bs4 import BeautifulSoup\n",
        "from urllib.parse import urljoin\n",
        "\n",
        "# URL of the website\n",
        "url = \"https://international.northeastern.edu/ogs/\"\n",
        "\n",
        "# Define custom user-agent header\n",
        "headers = {\n",
        "    \"User-Agent\": \"Mozilla/5.0 (Windows NT 10.0; Win64; x64) AppleWebKit/537.36 (KHTML, like Gecko) Chrome/96.0.4664.110 Safari/537.36\"\n",
        "}\n",
        "\n",
        "# Send a GET request to the URL with custom headers\n",
        "response = requests.get(url, headers=headers)\n",
        "\n",
        "# Check if the request was successful (status code 200)\n",
        "if response.status_code == 200:\n",
        "    # Parse the HTML content of the page\n",
        "    soup = BeautifulSoup(response.content, \"html.parser\")\n",
        "\n",
        "    # Find all anchor tags (links) on the page\n",
        "    links = soup.find_all(\"a\", href=True)\n",
        "\n",
        "    # Extract the URLs from the anchor tags\n",
        "    extracted_links = [link['href'] for link in links]\n",
        "\n",
        "    # Convert relative URLs to absolute URLs\n",
        "    absolute_links = [urljoin(url, link) for link in extracted_links]\n",
        "\n",
        "    # Filter out non-related links if needed\n",
        "    related_links = [link for link in absolute_links if url in link]\n",
        "\n",
        "    # Print the related links\n",
        "    for link in related_links:\n",
        "        print(link)\n",
        "else:\n",
        "    print(\"Failed to retrieve data from the website\")\n"
      ],
      "metadata": {
        "colab": {
          "base_uri": "https://localhost:8080/"
        },
        "id": "ys3ujKFoLQis",
        "outputId": "c75b9e24-30d8-4957-b5be-eda3ad6bc0cb"
      },
      "execution_count": null,
      "outputs": [
        {
          "output_type": "stream",
          "name": "stdout",
          "text": [
            "https://international.northeastern.edu/ogs/\n",
            "https://international.northeastern.edu/ogs/ogs-forms-and-guides/\n",
            "https://international.northeastern.edu/ogs/new-students/\n",
            "https://international.northeastern.edu/ogs/new-students/i-20-ds-2019-application/\n",
            "https://international.northeastern.edu/ogs/new-students/i-20-ds-2019-application/prearrivali20/\n",
            "https://international.northeastern.edu/ogs/new-students/i-20-ds-2019-application/requesting-your-transfer-in-i-20-f-1/\n",
            "https://international.northeastern.edu/ogs/new-students/i-20-ds-2019-application/requesting-your-nu-in-i-20-f-1/\n",
            "https://international.northeastern.edu/ogs/new-students/i-20-ds-2019-application/deferring-your-program-start/\n",
            "https://international.northeastern.edu/ogs/new-students/i-20-ds-2019-application/applying-as-a-j-1-student/\n",
            "https://international.northeastern.edu/ogs/new-students/i-20-ds-2019-application/dependents/\n",
            "https://international.northeastern.edu/ogs/new-students/i-20-ds-2019-application/financial-requirements/\n",
            "https://international.northeastern.edu/ogs/estimate-of-expenses-for-i-20-requests/\n",
            "https://international.northeastern.edu/ogs/new-students/visa-application/\n",
            "https://international.northeastern.edu/ogs/new-students/f-1-visa-process/\n",
            "https://international.northeastern.edu/ogs/new-students/visa-application/j-1-student-visa-process/\n",
            "https://international.northeastern.edu/ogs/new-students/paying-sevis-fee/\n",
            "https://international.northeastern.edu/ogs/new-students/arrival/\n",
            "https://international.northeastern.edu/ogs/new-students/jumpstart/\n",
            "https://international.northeastern.edu/ogs/new-students/arrival/arriving-in-the-u-s/\n",
            "https://international.northeastern.edu/ogs/new-students/arrival/online-immigration-clearance/\n",
            "https://international.northeastern.edu/ogs/new-students/arrival/obtaining-i-94/\n",
            "https://international.northeastern.edu/ogs/new-students/arrival/settling-in-at-nu/\n",
            "https://international.northeastern.edu/ogs/new-students/arrival/international-student-orientation/\n",
            "https://international.northeastern.edu/ogs/current-students/\n",
            "https://international.northeastern.edu/ogs/current-students/understanding-visa-requirements/\n",
            "https://international.northeastern.edu/ogs/current-students/understanding-visa-requirements/guidelines-on-maintaining-status/\n",
            "https://international.northeastern.edu/ogs/current-students/understanding-visa-requirements/reduced-course-load/\n",
            "https://international.northeastern.edu/ogs/current-students/understanding-visa-requirements/summer-term/\n",
            "https://international.northeastern.edu/ogs/current-students/understanding-visa-requirements/change-of-degree-level/\n",
            "https://international.northeastern.edu/ogs/current-students/understanding-visa-requirements/final-term/\n",
            "https://international.northeastern.edu/ogs/current-students/understanding-visa-requirements/program-extention/\n",
            "https://international.northeastern.edu/ogs/current-students/leaving-northeastern/\n",
            "https://international.northeastern.edu/ogs/current-students/understanding-visa-requirements/transferring-out/\n",
            "https://international.northeastern.edu/ogs/current-students/understanding-visa-requirements/correcting-status/\n",
            "https://international.northeastern.edu/ogs/current-students/traveling/\n",
            "https://international.northeastern.edu/ogs/current-students/traveling/international-travel/\n",
            "https://international.northeastern.edu/ogs/current-students/traveling/domestic-travel/\n",
            "https://international.northeastern.edu/ogs/current-students/traveling/renewing-your-visa/\n",
            "https://international.northeastern.edu/ogs/current-students/traveling/graduate-research-abroad/\n",
            "https://international.northeastern.edu/ogs/current-students/traveling/study-abroad/\n",
            "https://international.northeastern.edu/ogs/current-students/traveling/executive-order/\n",
            "https://international.northeastern.edu/ogs/current-students/leaves-of-absence/\n",
            "https://international.northeastern.edu/ogs/current-students/leaves-of-absence/medical-leave-of-absence/\n",
            "https://international.northeastern.edu/ogs/current-students/leaves-of-absence/non-medical-leave-of-absence/\n",
            "https://international.northeastern.edu/ogs/current-students/leaves-of-absence/returning-from-a-leave-of-absence-outside-us/\n",
            "https://international.northeastern.edu/ogs/category/updates/\n",
            "https://international.northeastern.edu/ogs/changes-to-ogs-communications/\n",
            "https://international.northeastern.edu/ogs/dhs-tip-sheet-avoiding-i-765-delays/\n",
            "https://international.northeastern.edu/ogs/sevp-update-sign-and-send-i-983-electronically/\n",
            "https://international.northeastern.edu/ogs/uscis-error-biometrics-appointments-and-opt-stem-extension-applications/\n",
            "https://international.northeastern.edu/ogs/current-students/important-updates/uscis-update-future-premium-processing-expansion/\n",
            "https://international.northeastern.edu/ogs/current-students/important-updates/uscis-forms-update-notice/\n",
            "https://international.northeastern.edu/ogs/current-students/important-updates/guidance-for-the-2022-2023-academic-year/\n",
            "https://international.northeastern.edu/ogs/current-students/important-updates/sevp-updates-for-academic-year-2021-22/\n",
            "https://international.northeastern.edu/ogs/current-students/important-updates/f-1-students-can-now-file-form-i-765-online/\n",
            "https://international.northeastern.edu/ogs/current-students/understanding-visa-requirements/sevp-guidance-for-fall-2020/\n",
            "https://international.northeastern.edu/ogs/employment/\n",
            "https://international.northeastern.edu/ogs/employment/on-campus-employment/\n",
            "https://international.northeastern.edu/ogs/employment/on-campus-employment/f-1-on-campus-employment/\n",
            "https://international.northeastern.edu/ogs/employment/on-campus-employment/stipended-graduate-assistantships/\n",
            "https://international.northeastern.edu/ogs/employment/off-campus-employment/\n",
            "https://international.northeastern.edu/ogs/employment/off-campus-employment/f-1-curricular-practical-training/\n",
            "https://international.northeastern.edu/ogs/employment/off-campus-employment/f-1-pre-completion-opt/\n",
            "https://international.northeastern.edu/ogs/employment/off-campus-employment/j-1-academic-training/\n",
            "https://international.northeastern.edu/ogs/employment/off-campus-employment/economic-hardship/\n",
            "https://international.northeastern.edu/ogs/employment/off-campus-employment/ssr-and-tps/\n",
            "https://international.northeastern.edu/ogs/employment/off-campus-employment/working-outside-the-u-s/\n",
            "https://international.northeastern.edu/ogs/employment/off-campus-employment/unauthorized-experiential-activity/\n",
            "https://international.northeastern.edu/ogs/employment/working-after-graduation/\n",
            "https://international.northeastern.edu/ogs/employment/off-campus-employment/applying-for-post-completion-opt-f-1/\n",
            "https://international.northeastern.edu/ogs/employment/working-after-graduation/reporting-post-opt/\n",
            "https://international.northeastern.edu/ogs/employment/working-after-graduation/24-stem-opt/\n",
            "https://international.northeastern.edu/ogs/employment/working-after-graduation/reporting-stem-opt/\n",
            "https://international.northeastern.edu/ogs/employment/working-after-graduation/cap-gap-extension/\n",
            "https://international.northeastern.edu/ogs/employment/off-campus-employment/j-1-academic-training/\n",
            "https://international.northeastern.edu/ogs/employment/other-topics/\n",
            "https://international.northeastern.edu/ogs/employment/other-topics/social-security-number/\n",
            "https://international.northeastern.edu/ogs/employment/other-topics/volunteering/\n",
            "https://international.northeastern.edu/ogs/employment/other-topics/employment-for-dependents-j-2/\n",
            "https://international.northeastern.edu/ogs/exchange-visitor-program/\n",
            "https://international.northeastern.edu/ogs/exchange-visitor-program/j-1-scholars/\n",
            "https://international.northeastern.edu/ogs/exchange-visitor-program/j-1-scholars/information-for-new-j-1-scholars/\n",
            "https://international.northeastern.edu/ogs/exchange-visitor-program/j-1-scholars/visa-process-for-j-1-scholars/\n",
            "https://international.northeastern.edu/ogs/exchange-visitor-program/j-1-scholars/arrival-for-j-1-scholars/\n",
            "https://international.northeastern.edu/ogs/exchange-visitor-program/j-1-scholars/traveling-as-a-j-1-scholar/\n",
            "https://international.northeastern.edu/ogs/exchange-visitor-program/j-1-scholars/guidelines-for-maintaining-j-1-scholar-status/\n",
            "https://international.northeastern.edu/ogs/exchange-visitor-program/j-1-scholars/completing-your-j-1-scholar-program/\n",
            "https://international.northeastern.edu/ogs/exchange-visitor-program/j-1-scholars/how-to-submit-an-e-form-for-j-1-scholars/\n",
            "https://international.northeastern.edu/ogs/exchange-visitor-program/j-1-scholars/financial-requirements-for-j-1-scholars/\n",
            "https://international.northeastern.edu/ogs/exchange-visitor-program/j-1-visiting-students/\n",
            "https://international.northeastern.edu/ogs/exchange-visitor-program/j-1-visiting-students/information-for-new-j-1-visiting-students/\n",
            "https://international.northeastern.edu/ogs/exchange-visitor-program/j-1-visiting-students/visa-process-for-j-1-visiting-students/\n",
            "https://international.northeastern.edu/ogs/exchange-visitor-program/j-1-visiting-students/arrival-for-j-1-visiting-students/\n",
            "https://international.northeastern.edu/ogs/exchange-visitor-program/j-1-visiting-students/traveling-as-a-j-1-visiting-student/\n",
            "https://international.northeastern.edu/ogs/exchange-visitor-program/j-1-visiting-students/guidelines-for-maintaining-j-1-visiting-student-status/\n",
            "https://international.northeastern.edu/ogs/exchange-visitor-program/j-1-visiting-students/completing-your-j-1-visiting-student-program/\n",
            "https://international.northeastern.edu/ogs/exchange-visitor-program/j-1-visiting-students/how-to-submit-an-e-form-for-j-1-visiting-students/\n",
            "https://international.northeastern.edu/ogs/exchange-visitor-program/j-1-visiting-students/financial-requirements-for-j-1-visiting-students/\n",
            "https://international.northeastern.edu/ogs/student-support/\n",
            "https://international.northeastern.edu/ogs/student-support/\n",
            "https://international.northeastern.edu/ogs/academic-skills-advising/\n",
            "https://international.northeastern.edu/ogs/student-support/academic-tools-tips/\n",
            "https://international.northeastern.edu/ogs/student-support/events/\n",
            "https://international.northeastern.edu/ogs/global-student-mentor-program/\n",
            "https://international.northeastern.edu/ogs/student-support/\n",
            "https://international.northeastern.edu/ogs/campus-resources/\n",
            "https://international.northeastern.edu/ogs/tax-information/\n",
            "https://international.northeastern.edu/ogs/safety-scams/\n",
            "https://international.northeastern.edu/ogs/student-support/resources/health/\n",
            "https://international.northeastern.edu/ogs/housing/\n",
            "https://international.northeastern.edu/ogs/state-issued-ids/\n",
            "https://international.northeastern.edu/ogs/student-support/resources/family-matters/\n",
            "https://international.northeastern.edu/ogs/government-resources/\n",
            "https://international.northeastern.edu/ogs/immigration-attorneys-and-pro-bono-legal-services/\n",
            "https://international.northeastern.edu/ogs/student-support/academic-services/global-student-success/\n",
            "https://international.northeastern.edu/ogs/student-support/\n",
            "https://international.northeastern.edu/ogs/contact/\n",
            "https://international.northeastern.edu/ogs/troubleshooting-myogs/\n",
            "https://international.northeastern.edu/ogs/ogs-forms-and-guides/\n",
            "https://international.northeastern.edu/ogs/student-support/global-campuses/canada/\n",
            "https://international.northeastern.edu/ogs/student-support/global-campuses/canada/poa-and-deposit-process/\n",
            "https://international.northeastern.edu/ogs/student-support/global-campuses/canada/applying-for-a-study-permit/\n",
            "https://international.northeastern.edu/ogs/student-support/global-campuses/canada/student-direct-stream/\n",
            "https://international.northeastern.edu/ogs/student-support/global-campuses/canada/living-in-canada/\n",
            "https://international.northeastern.edu/ogs/student-support/global-campuses/canada/traveling-to-canada/\n",
            "https://international.northeastern.edu/ogs/student-support/global-campuses/canada/social-insurance-number/\n",
            "https://international.northeastern.edu/ogs/student-support/global-campuses/canada/co-op-work-permit/\n",
            "https://international.northeastern.edu/ogs/student-support/global-campuses/canada/health-insurance/\n",
            "https://international.northeastern.edu/ogs/student-support/global-campuses/canada/driving-in-canada/\n",
            "https://international.northeastern.edu/ogs/student-support/global-campuses/canada/late-arrival-and-deferral-policies/\n",
            "https://international.northeastern.edu/ogs/student-support/global-campuses/canada/special-events-canada/\n",
            "https://international.northeastern.edu/ogs/student-support/global-campuses/canada/international-advising/\n",
            "https://international.northeastern.edu/ogs/student-support/global-campuses/canada/letters-of-invitation/\n",
            "https://international.northeastern.edu/ogs/student-support/global-campuses/canada/maintaining-student-status-in-canada/\n",
            "https://international.northeastern.edu/ogs/student-support/global-campuses/canada/working-while-studying/\n",
            "https://international.northeastern.edu/ogs/student-support/global-campuses/canada/post-graduation-work-permit/\n",
            "https://international.northeastern.edu/ogs/student-support/global-campuses/canada/campustransfer/\n",
            "https://international.northeastern.edu/ogs/student-support/global-campuses/canada/academic-dismissal-and-immigration-policies/\n",
            "https://international.northeastern.edu/ogs/student-support/global-campuses/canada/scheduled-breaks-and-full-time-definitions/\n",
            "https://international.northeastern.edu/ogs/changes-to-ogs-communications/\n",
            "https://international.northeastern.edu/ogs/dhs-tip-sheet-avoiding-i-765-delays/\n",
            "https://international.northeastern.edu/ogs/sevp-update-sign-and-send-i-983-electronically/\n",
            "https://international.northeastern.edu/ogs/student-support/events/\n",
            "https://international.northeastern.edu/ogs/new-students/arrival/international-student-orientation/\n",
            "https://international.northeastern.edu/ogs/student-support/global-campuses/canada/\n",
            "https://international.northeastern.edu/ogs/ogs-forms-and-guides/\n",
            "https://international.northeastern.edu/ogs/student-support/resources/contact/\n",
            "https://international.northeastern.edu/ogs/new-students/\n",
            "https://international.northeastern.edu/ogs/new-students/arrival/arriving-in-the-u-s/\n",
            "https://international.northeastern.edu/ogs/student-support/global-campuses/canada/traveling-to-canada/\n",
            "https://international.northeastern.edu/ogs/new-students/i-20-ds-2019-application/applying-for-your-initial-i-20/\n",
            "https://international.northeastern.edu/ogs/current-students/\n",
            "https://international.northeastern.edu/ogs/exchange-visitor-program/j-1-scholars/\n",
            "https://international.northeastern.edu/ogs/exchange-visitor-program/j-1-visiting-students/\n",
            "https://international.northeastern.edu/ogs/new-students/visa-application/\n",
            "https://international.northeastern.edu/ogs/student-support/resources/tax-information/\n",
            "https://international.northeastern.edu/ogs/employment/other-topics/social-security-number/\n",
            "https://international.northeastern.edu/ogs/student-support/resources/global-student-mentor-program/\n",
            "https://international.northeastern.edu/ogs/employment/working-after-graduation/\n",
            "https://international.northeastern.edu/ogs/student-support/resources/contact/\n"
          ]
        }
      ]
    },
    {
      "cell_type": "code",
      "source": [
        "all_link_data = []\n",
        "related_links = ['https://international.northeastern.edu/ogs/employment/on-campus-employment/f-1-on-campus-employment/']\n",
        "for link in related_links:\n",
        "    data = read_url(link)\n",
        "    all_link_data.append(data)"
      ],
      "metadata": {
        "id": "lHMEUQzAhQjO"
      },
      "execution_count": null,
      "outputs": []
    },
    {
      "cell_type": "code",
      "source": [
        "len(all_link_data)"
      ],
      "metadata": {
        "colab": {
          "base_uri": "https://localhost:8080/"
        },
        "id": "FaBzu3Q2hQfi",
        "outputId": "8cfe388b-c7dd-416c-b198-56d90b729917"
      },
      "execution_count": null,
      "outputs": [
        {
          "output_type": "execute_result",
          "data": {
            "text/plain": [
              "1"
            ]
          },
          "metadata": {},
          "execution_count": 17
        }
      ]
    },
    {
      "cell_type": "code",
      "source": [
        "print(all_link_data[1][0])"
      ],
      "metadata": {
        "colab": {
          "base_uri": "https://localhost:8080/"
        },
        "id": "BFs2OjJfhQbL",
        "outputId": "da733634-e58f-46f4-cb2c-47c022a53bbe"
      },
      "execution_count": null,
      "outputs": [
        {
          "output_type": "stream",
          "name": "stdout",
          "text": [
            "New Student Forms (U.S. Campuses)\n",
            "Instructions for requesting your I-20 for F-1 students\n",
            "Change of Status Instructions\n",
            "Data Form for Non-NU Visa Sponsored – NEW Students\n",
            "Request to Comply with I-515A\n",
            "Transfer-In Verification Form for J-1 Students\n",
            " \n",
            "\n",
            "Current Student Forms (U.S. Campuses)\n",
            "\n",
            "Certificate of Program Completion\n",
            "Change of Degree Level\n",
            "Correction of Status Instructions and Request\n",
            "Data Form for Non-NU Visa Sponsored- Continuing Students\n",
            "Finish Degree Online from Overseas\n",
            "Graduate Research Abroad Authorization\n",
            "I-20 Request – CPS Graduate Students Changing from Graduate Certificate to Master’s or Master’s to Grad Certificate\n",
            "Intercampus Transfer Request\n",
            "J-1 Student Interns\n",
            "Medical Leave of Absence Request\n",
            "Notification to OGS of Non-Medical Leave of Absence\n",
            "Notification to OGS of University Withdrawal\n",
            "Program Extension Request\n",
            "Recommendation for Reduced Course Load – Academic Difficulties\n",
            "Request for OLD I-20/DS-2019 Copies\n",
            "Request for UPDATED I-20/DS-2019\n",
            "Request for I-20/DS-2019 to Return from Academic Dismissal\n",
            "Request to Return from a Leave of Absence of 5 Months or More\n",
            "Request to Return from Leave of Absence less than 5 months\n",
            "Request to Comply with I-515A\n",
            "Sample Invitation Letter\n",
            "Switching to Permanent Residency\n",
            "Transfer Out Request\n",
            "Travel Signature Request\n",
            " \n",
            "\n",
            "Employment (U.S. Campuses)\n",
            "On-Campus Employment\n",
            "F-1 Student On-Campus Employment Letter \n",
            "J-1 Student On-Campus Employment Authorization\n",
            "SGA Social Security Number Letter Request\n",
            "\n",
            "Curricular Practical Training\n",
            "CPT Authorization Request Form\n",
            "CPT Authorization History Request\n",
            "CPT Update Form*\n",
            "*This form is intended only for updates to existing CPT authorization – it is not intended for students who are requesting new periods of CPT authorization or who are trying to extend their CPT authorization for new academic terms.\n",
            " \n",
            "Pre-Completion Optional Practical Training (OPT)\n",
            "Pre-Completion OPT Application Form\n",
            "Pre-OPT Verification Form\n",
            " \n",
            "Post-Completion Optional Practical Training (OPT)\n",
            "Post-Completion OPT Central\n",
            "Certification of Program Completion (OPT and AT)\n",
            " \n",
            "STEM OPT Extension\n",
            "STEM OPT Application Form\n",
            "Address Update Form for Students on STEM OPT\n",
            "Employer Update Form for Students on STEM OPT\n",
            "          **This form is to report a new employer while on STEM OPT\n",
            "\n",
            "Request for Updated I-20 while on STEM OPT**\n",
            "          **This form is NOT a request to obtain STEM Authorization\n",
            "I-983 Updates and Final Evaluations\n",
            "          **This e-form is to report material changes to your current employer\n",
            "\n",
            "STEM Validation (6, 12, 18 and 24 months)\n",
            "STEM OPT Issue Reporting Form\n",
            "Request to Complete STEM OPT & SEVIS Record\n",
            "Post-Graduate Admin Fee Refund Request***\n",
            "***This is only for students who have paid the administrative fee to Northeastern and are no longer eligible to apply for OPT\n",
            " \n",
            "OPT Cap-Gap Extension\n",
            "Cap-Gap I-20 Request\n",
            " \n",
            "Academic Training\n",
            "Academic Training (AT) Authorization Request Form\n",
            "Academic Training (AT) Update  Request Form\n",
            " \n",
            "Off-Campus Meeting, Data Retrieval, or Observation Permission\n",
            "Off-Campus Meeting, Data Retrieval, or Observation Permission Letter Request\n",
            " \n",
            "\n",
            "Scholars\n",
            "Please see here for instructions to submit J-1 scholar e-form requests.\n",
            " \n",
            "\n",
            "Canadian Campus Students\n",
            "Canadian Arrival Questionnaire\n",
            "Canadian Study Permit Update\n",
            "Canadian Health Insurance Update\n",
            " \n",
            "\n",
            "Contact OGS\n",
            "If you can’t find what you’re looking for or have additional questions you can contact OGS via our Inquiry Form or one of the email addresses below. Please note that all requests for I-20/DS-2019 issuance must be submitted via an e-form.\n",
            " \n",
            "Visit the OGS Service Portal to ask a question through the OGS Inquiry Form\n",
            "J-1 Scholars may email [email protected] \n",
            "Current students studying at a Canadian Campus may email [email protected]\n"
          ]
        }
      ]
    },
    {
      "cell_type": "code",
      "source": [
        "def concat_strings_in_list(input_list):\n",
        "    concatenated_string = '\\n'.join([''.join(sublist) for sublist in input_list])\n",
        "    return concatenated_string\n",
        "\n",
        "# Example usage:\n",
        "input_list = [['hello'], ['world']]\n",
        "result = concat_strings_in_list(input_list)\n",
        "print(result)"
      ],
      "metadata": {
        "colab": {
          "base_uri": "https://localhost:8080/"
        },
        "id": "W9f0x3mwTIbL",
        "outputId": "4933925d-0798-4654-d289-5dadcb9e51c0"
      },
      "execution_count": null,
      "outputs": [
        {
          "output_type": "stream",
          "name": "stdout",
          "text": [
            "hello\n",
            "world\n"
          ]
        }
      ]
    },
    {
      "cell_type": "code",
      "source": [
        "def clean_string(input_string):\n",
        "    lines = input_string.split('\\n')\n",
        "    cleaned_lines = []\n",
        "    empty_line_encountered = False\n",
        "\n",
        "    for line in lines:\n",
        "        line = line.strip()\n",
        "        if line:\n",
        "            if empty_line_encountered:\n",
        "                cleaned_lines.append('')\n",
        "                empty_line_encountered = False\n",
        "            cleaned_lines.append(line)\n",
        "        else:\n",
        "            empty_line_encountered = True\n",
        "\n",
        "    cleaned_string = '\\n'.join(cleaned_lines)\n",
        "    return cleaned_string"
      ],
      "metadata": {
        "id": "ZwWyTUrFT5sl"
      },
      "execution_count": null,
      "outputs": []
    },
    {
      "cell_type": "code",
      "source": [
        "def save_string_to_file(file_name, string_data):\n",
        "    try:\n",
        "        with open(file_name, 'w') as file:\n",
        "            file.write(string_data)\n",
        "        print(\"String saved to\", file_name)\n",
        "    except IOError:\n",
        "        print(\"Error: Unable to save string to\", file_name)\n",
        "\n"
      ],
      "metadata": {
        "id": "9XbzrWANhQXP"
      },
      "execution_count": null,
      "outputs": []
    },
    {
      "cell_type": "code",
      "source": [
        "concat_all_link_data = concat_strings_in_list(all_link_data)\n",
        "\n",
        "concat_all_link_data = clean_string(concat_all_link_data)\n",
        "\n",
        "file_name = \"concat_all_link_data.txt\"\n",
        "save_string_to_file(file_name, concat_all_link_data)"
      ],
      "metadata": {
        "id": "bcPxZ-ZKjj0j",
        "colab": {
          "base_uri": "https://localhost:8080/"
        },
        "outputId": "d540b43b-3419-4289-82a0-d9e079d0f016"
      },
      "execution_count": null,
      "outputs": [
        {
          "output_type": "stream",
          "name": "stdout",
          "text": [
            "String saved to concat_all_link_data.txt\n"
          ]
        }
      ]
    },
    {
      "cell_type": "code",
      "source": [],
      "metadata": {
        "id": "ToZmaiLjjjxi"
      },
      "execution_count": null,
      "outputs": []
    },
    {
      "cell_type": "code",
      "source": [],
      "metadata": {
        "id": "vV5zsEyVjjrc"
      },
      "execution_count": null,
      "outputs": []
    },
    {
      "cell_type": "code",
      "source": [],
      "metadata": {
        "id": "ZgaQLZSNGoUz"
      },
      "execution_count": null,
      "outputs": []
    }
  ]
}