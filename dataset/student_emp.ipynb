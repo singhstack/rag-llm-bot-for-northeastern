{
 "cells": [
  {
   "cell_type": "code",
   "execution_count": 5,
   "metadata": {},
   "outputs": [],
   "source": [
    "import pandas as pd\n",
    "import numpy as np\n",
    "from bs4 import BeautifulSoup\n",
    "import requests"
   ]
  },
  {
   "cell_type": "code",
   "execution_count": 6,
   "metadata": {},
   "outputs": [],
   "source": [
    "url = \"https://studentemployment.northeastern.edu/\"\n",
    "response = requests.get(url)\n",
    "soup = BeautifulSoup(response.text, 'html.parser')\n"
   ]
  },
  {
   "cell_type": "code",
   "execution_count": 19,
   "metadata": {},
   "outputs": [],
   "source": [
    "faq_pages = {\n",
    "    'general':[\"https://studentemployment.northeastern.edu/workday/\"],\n",
    "    'student temp jobs':[\"https://studentemployment.northeastern.edu/nu-student-temps/\",\n",
    "                \"https://studentemployment.northeastern.edu/student-temp-students/\"],\n",
    "    'new students':[\"https://studentemployment.northeastern.edu/new-students/\",\n",
    "               \"https://studentemployment.northeastern.edu/domestic-part-time/\",\n",
    "                \"https://studentemployment.northeastern.edu/work-study/\"],\n",
    "    'international students':[\n",
    "                \"https://studentemployment.northeastern.edu/f-1/\",\n",
    "                \"https://studentemployment.northeastern.edu/j-1/\",\n",
    "                \"https://studentemployment.northeastern.edu/canada/\",\n",
    "                \"https://studentemployment.northeastern.edu/co-op/\"\n",
    "                ] }"
   ]
  },
  {
   "cell_type": "code",
   "execution_count": 8,
   "metadata": {},
   "outputs": [],
   "source": [
    "\"\"\"urls = \"https://studentemployment.northeastern.edu/new-students/\"\n",
    "response = requests.get(urls)\n",
    "soup = BeautifulSoup(response.text, 'html.parser')\n",
    "# Assuming FAQs are in a <div> with class 'faq-section'\n",
    "faq_sections = soup.find('div', id='faq')\n",
    "#faq_sections\n",
    "\"\"\""
   ]
  },
  {
   "cell_type": "code",
   "execution_count": 26,
   "metadata": {},
   "outputs": [
    {
     "name": "stdout",
     "output_type": "stream",
     "text": [
      "Could not find faq section in general page\n",
      "Could not find faq section in student temp jobs page\n",
      "Could not find faq section in student temp jobs page\n"
     ]
    }
   ],
   "source": [
    "all_faqs = []\n",
    "for topic in faq_pages:\n",
    "    for url in faq_pages[topic]:\n",
    "\n",
    "        #scrape faqs from the page\n",
    "        #urls = \"https://studentemployment.northeastern.edu/new-students/\"\n",
    "        response = requests.get(url)\n",
    "        soup = BeautifulSoup(response.text, 'html.parser')\n",
    "        # Assuming FAQs are in a <div> with class 'faq-section'\n",
    "        faq_sections = soup.find('div', id='faq')\n",
    "        \n",
    "        #get questions and answers from the faw section:\n",
    "        try:    \n",
    "            faq_toggles = faq_sections.find_all('div', class_='et_pb_toggle')\n",
    "        except:\n",
    "            print(f\"Could not find faq section in {topic} page\")\n",
    "\n",
    "\n",
    "        faqs = []  # List to hold the question and answer pairs\n",
    "\n",
    "        for toggle in faq_toggles:\n",
    "            # Find the question title within the toggle\n",
    "            question = toggle.find('h5', class_='et_pb_toggle_title').text.strip()\n",
    "            # Find the answer content within the toggle\n",
    "            answer = toggle.find('div', class_='et_pb_toggle_content').text.strip()\n",
    "            \n",
    "            # Append the question and answer to the faqs list\n",
    "            faqs.append({'title':topic,'question': question, 'answer': answer})\n",
    "\n",
    "        # Example output\n",
    "        #for faq in faqs:\n",
    "            #print(f\"Question: {faq['question']}\")\n",
    "            #print(f\"Answer: {faq['answer']}\\n\")\n",
    "\n",
    "        all_faqs.append(faqs)   \n"
   ]
  },
  {
   "cell_type": "code",
   "execution_count": 27,
   "metadata": {},
   "outputs": [
    {
     "name": "stdout",
     "output_type": "stream",
     "text": [
      "[[{'title': 'general', 'question': 'How can I apply for jobs?', 'answer': 'Go to Workday → Menu → Jobs and Career Hub → Student Employment → Click on the on-campus jobs or off-campus jobs.\\nFor co-op opportunities,\\xa0 please check NUworks.'}, {'title': 'general', 'question': 'Why is my application automatically rejected?', 'answer': 'Students may be rejected from a job if they are not qualified, or if another candidate was more suitable for the position. Hiring managers make the final hiring decision.\\nIf you believe your applications are being rejected in error, please contact us.'}, {'title': 'general', 'question': 'When can new students apply for jobs?', 'answer': 'Incoming students will be given access to Workday 20 days prior to the start of their program.'}, {'title': 'general', 'question': 'Am I allowed to start working while my I-9 documents are processing?', 'answer': 'Students should not start working until their hire has been confirmed in Workday, to avoid any possible delay in pay if there are issues with the hire request or I-9 processing.'}, {'title': 'general', 'question': 'I do not have my original documents for Section 2 of the Form I-9. Can I present a scan, picture or photocopy?', 'answer': 'No, we can only accept the true, physical document. We cannot accept scans, pictures or photocopies of I-9 supporting documents.'}, {'title': 'general', 'question': 'I will not be on campus prior to my start date to submit my I-9 documents in person. Can I complete a remote I-9 or email the documents to you?', 'answer': 'No, we cannot verify your I-9 supporting documents remotely. For the safety of your identity, please do not email scanned copies of your Section 2 documents. Please bring original documents to the Student Employment Office once you arrive. Our office will be open during move-in week.'}, {'title': 'general', 'question': 'How can I view my paystubs?', 'answer': \"To view your this year's paystub history, go to Workday and search\\xa0“My Payslip”\\xa0in the search bar.\\nTo access paystub history prior to this year, please navigate to Student Hub → Resources → Financial Services → Student Employee Self Service, and search “Pay Slips”.\"}, {'title': 'general', 'question': 'Why am I unable to submit a timesheet?', 'answer': 'Students are paid on a bi-weekly pay schedule. Every pay week, the timesheet will be temporarily locked for processing payroll. If you have trouble entering time, please try again on Friday. Make sure you enter your hours by 10 AM Sunday morning every week so you can get paid on time.'}, {'title': 'general', 'question': 'Can I keep my part-time job while going on Co-op?', 'answer': 'If your Co-op position is on-campus, please make sure you receive approval from your Co--op advisor regarding any possible program restrictions and communicate closely with both your Co-op supervisor and part-time supervisor, and make sure they are aware of your other on-campus positions and hours entered. There will be overtime charges if your total hours (Co-op + part time) exceed 40.'}], [{'title': 'student temp jobs', 'question': 'How can I apply for jobs?', 'answer': 'Go to Workday → Menu → Jobs and Career Hub → Student Employment → Click on the on-campus jobs or off-campus jobs.\\nFor co-op opportunities,\\xa0 please check NUworks.'}, {'title': 'student temp jobs', 'question': 'Why is my application automatically rejected?', 'answer': 'Students may be rejected from a job if they are not qualified, or if another candidate was more suitable for the position. Hiring managers make the final hiring decision.\\nIf you believe your applications are being rejected in error, please contact us.'}, {'title': 'student temp jobs', 'question': 'When can new students apply for jobs?', 'answer': 'Incoming students will be given access to Workday 20 days prior to the start of their program.'}, {'title': 'student temp jobs', 'question': 'Am I allowed to start working while my I-9 documents are processing?', 'answer': 'Students should not start working until their hire has been confirmed in Workday, to avoid any possible delay in pay if there are issues with the hire request or I-9 processing.'}, {'title': 'student temp jobs', 'question': 'I do not have my original documents for Section 2 of the Form I-9. Can I present a scan, picture or photocopy?', 'answer': 'No, we can only accept the true, physical document. We cannot accept scans, pictures or photocopies of I-9 supporting documents.'}, {'title': 'student temp jobs', 'question': 'I will not be on campus prior to my start date to submit my I-9 documents in person. Can I complete a remote I-9 or email the documents to you?', 'answer': 'No, we cannot verify your I-9 supporting documents remotely. For the safety of your identity, please do not email scanned copies of your Section 2 documents. Please bring original documents to the Student Employment Office once you arrive. Our office will be open during move-in week.'}, {'title': 'student temp jobs', 'question': 'How can I view my paystubs?', 'answer': \"To view your this year's paystub history, go to Workday and search\\xa0“My Payslip”\\xa0in the search bar.\\nTo access paystub history prior to this year, please navigate to Student Hub → Resources → Financial Services → Student Employee Self Service, and search “Pay Slips”.\"}, {'title': 'student temp jobs', 'question': 'Why am I unable to submit a timesheet?', 'answer': 'Students are paid on a bi-weekly pay schedule. Every pay week, the timesheet will be temporarily locked for processing payroll. If you have trouble entering time, please try again on Friday. Make sure you enter your hours by 10 AM Sunday morning every week so you can get paid on time.'}, {'title': 'student temp jobs', 'question': 'Can I keep my part-time job while going on Co-op?', 'answer': 'If your Co-op position is on-campus, please make sure you receive approval from your Co--op advisor regarding any possible program restrictions and communicate closely with both your Co-op supervisor and part-time supervisor, and make sure they are aware of your other on-campus positions and hours entered. There will be overtime charges if your total hours (Co-op + part time) exceed 40.'}], [{'title': 'student temp jobs', 'question': 'How can I apply for jobs?', 'answer': 'Go to Workday → Menu → Jobs and Career Hub → Student Employment → Click on the on-campus jobs or off-campus jobs.\\nFor co-op opportunities,\\xa0 please check NUworks.'}, {'title': 'student temp jobs', 'question': 'Why is my application automatically rejected?', 'answer': 'Students may be rejected from a job if they are not qualified, or if another candidate was more suitable for the position. Hiring managers make the final hiring decision.\\nIf you believe your applications are being rejected in error, please contact us.'}, {'title': 'student temp jobs', 'question': 'When can new students apply for jobs?', 'answer': 'Incoming students will be given access to Workday 20 days prior to the start of their program.'}, {'title': 'student temp jobs', 'question': 'Am I allowed to start working while my I-9 documents are processing?', 'answer': 'Students should not start working until their hire has been confirmed in Workday, to avoid any possible delay in pay if there are issues with the hire request or I-9 processing.'}, {'title': 'student temp jobs', 'question': 'I do not have my original documents for Section 2 of the Form I-9. Can I present a scan, picture or photocopy?', 'answer': 'No, we can only accept the true, physical document. We cannot accept scans, pictures or photocopies of I-9 supporting documents.'}, {'title': 'student temp jobs', 'question': 'I will not be on campus prior to my start date to submit my I-9 documents in person. Can I complete a remote I-9 or email the documents to you?', 'answer': 'No, we cannot verify your I-9 supporting documents remotely. For the safety of your identity, please do not email scanned copies of your Section 2 documents. Please bring original documents to the Student Employment Office once you arrive. Our office will be open during move-in week.'}, {'title': 'student temp jobs', 'question': 'How can I view my paystubs?', 'answer': \"To view your this year's paystub history, go to Workday and search\\xa0“My Payslip”\\xa0in the search bar.\\nTo access paystub history prior to this year, please navigate to Student Hub → Resources → Financial Services → Student Employee Self Service, and search “Pay Slips”.\"}, {'title': 'student temp jobs', 'question': 'Why am I unable to submit a timesheet?', 'answer': 'Students are paid on a bi-weekly pay schedule. Every pay week, the timesheet will be temporarily locked for processing payroll. If you have trouble entering time, please try again on Friday. Make sure you enter your hours by 10 AM Sunday morning every week so you can get paid on time.'}, {'title': 'student temp jobs', 'question': 'Can I keep my part-time job while going on Co-op?', 'answer': 'If your Co-op position is on-campus, please make sure you receive approval from your Co--op advisor regarding any possible program restrictions and communicate closely with both your Co-op supervisor and part-time supervisor, and make sure they are aware of your other on-campus positions and hours entered. There will be overtime charges if your total hours (Co-op + part time) exceed 40.'}], [{'title': 'new students', 'question': 'How can I apply for jobs?', 'answer': 'Go to Workday → Menu → Jobs and Career Hub → Student Employment → Click on the on-campus jobs or off-campus jobs.\\nFor co-op opportunities,\\xa0 please check NUworks.'}, {'title': 'new students', 'question': 'Why is my application automatically rejected?', 'answer': 'Students may be rejected from a job if they are not qualified, or if another candidate was more suitable for the position. Hiring managers make the final hiring decision.\\nIf you believe your applications are being rejected in error, please contact us.'}, {'title': 'new students', 'question': 'When can new students apply for jobs?', 'answer': 'Incoming students will be given access to Workday 20 days prior to the start of their program.'}, {'title': 'new students', 'question': 'Am I allowed to start working while my I-9 documents are processing?', 'answer': 'Students should not start working until their hire has been confirmed in Workday, to avoid any possible delay in pay if there are issues with the hire request or I-9 processing.'}, {'title': 'new students', 'question': 'I do not have my original documents for Section 2 of the Form I-9. Can I present a scan, picture or photocopy?', 'answer': 'No, we can only accept the true, physical document. We cannot accept scans, pictures or photocopies of I-9 supporting documents.'}, {'title': 'new students', 'question': 'I will not be on campus prior to my start date to submit my I-9 documents in person. Can I complete a remote I-9 or email the documents to you?', 'answer': 'No, we cannot verify your I-9 supporting documents remotely. For the safety of your identity, please do not email scanned copies of your Section 2 documents. Please bring original documents to the Student Employment Office once you arrive. Our office will be open during move-in week.'}, {'title': 'new students', 'question': 'How can I view my paystubs?', 'answer': \"To view your this year's paystub history, go to Workday and search\\xa0“My Payslip”\\xa0in the search bar.\\nTo access paystub history prior to this year, please navigate to Student Hub → Resources → Financial Services → Student Employee Self Service, and search “Pay Slips”.\"}, {'title': 'new students', 'question': 'Why am I unable to submit a timesheet?', 'answer': 'Students are paid on a bi-weekly pay schedule. Every pay week, the timesheet will be temporarily locked for processing payroll. If you have trouble entering time, please try again on Friday. Make sure you enter your hours by 10 AM Sunday morning every week so you can get paid on time.'}, {'title': 'new students', 'question': 'Can I keep my part-time job while going on Co-op?', 'answer': 'If your Co-op position is on-campus, please make sure you receive approval from your Co--op advisor regarding any possible program restrictions and communicate closely with both your Co-op supervisor and part-time supervisor, and make sure they are aware of your other on-campus positions and hours entered. There will be overtime charges if your total hours (Co-op + part time) exceed 40.'}], [{'title': 'new students', 'question': 'How can I apply for jobs?', 'answer': 'Go to Workday → Menu → Jobs and Career Hub → Student Employment → Click on the on-campus jobs or off-campus jobs.\\nFor co-op opportunities,\\xa0 please check NUworks.'}, {'title': 'new students', 'question': 'Why is my application automatically rejected?', 'answer': 'Students may be rejected from a job if they are not qualified, or if another candidate was more suitable for the position. Hiring managers make the final hiring decision.\\nIf you believe your applications are being rejected in error, please contact us.'}, {'title': 'new students', 'question': 'When can new students apply for jobs?', 'answer': 'Incoming students will be given access to Workday 20 days prior to the start of their program.'}, {'title': 'new students', 'question': 'Am I allowed to start working while my I-9 documents are processing?', 'answer': 'Students should not start working until their hire has been confirmed in Workday, to avoid any possible delay in pay if there are issues with the hire request or I-9 processing.'}, {'title': 'new students', 'question': 'I do not have my original documents for Section 2 of the Form I-9. Can I present a scan, picture or photocopy?', 'answer': 'No, we can only accept the true, physical document. We cannot accept scans, pictures or photocopies of I-9 supporting documents.'}, {'title': 'new students', 'question': 'I will not be on campus prior to my start date to submit my I-9 documents in person. Can I complete a remote I-9 or email the documents to you?', 'answer': 'No, we cannot verify your I-9 supporting documents remotely. For the safety of your identity, please do not email scanned copies of your Section 2 documents. Please bring original documents to the Student Employment Office once you arrive. Our office will be open during move-in week.'}, {'title': 'new students', 'question': 'How can I view my paystubs?', 'answer': \"To view your this year's paystub history, go to Workday and search\\xa0“My Payslip”\\xa0in the search bar.\\nTo access paystub history prior to this year, please navigate to Student Hub → Resources → Financial Services → Student Employee Self Service, and search “Pay Slips”.\"}, {'title': 'new students', 'question': 'Why am I unable to submit a timesheet?', 'answer': 'Students are paid on a bi-weekly pay schedule. Every pay week, the timesheet will be temporarily locked for processing payroll. If you have trouble entering time, please try again on Friday. Make sure you enter your hours by 10 AM Sunday morning every week so you can get paid on time.'}, {'title': 'new students', 'question': 'Can I keep my part-time job while going on Co-op?', 'answer': 'If your Co-op position is on-campus, please make sure you receive approval from your Co--op advisor regarding any possible program restrictions and communicate closely with both your Co-op supervisor and part-time supervisor, and make sure they are aware of your other on-campus positions and hours entered. There will be overtime charges if your total hours (Co-op + part time) exceed 40.'}], [{'title': 'new students', 'question': 'How can I apply for jobs?', 'answer': 'Go to Workday → Menu → Jobs and Career Hub → Student Employment → Click on the on-campus jobs or off-campus jobs.\\nFor co-op opportunities,\\xa0 please check NUworks.'}, {'title': 'new students', 'question': 'Why is my application automatically rejected?', 'answer': 'Students may be rejected from a job if they are not qualified, or if another candidate was more suitable for the position. Hiring managers make the final hiring decision.\\nIf you believe your applications are being rejected in error, please contact us.'}, {'title': 'new students', 'question': 'When can new students apply for jobs?', 'answer': 'Incoming students will be given access to Workday 20 days prior to the start of their program.'}, {'title': 'new students', 'question': 'Am I allowed to start working while my I-9 documents are processing?', 'answer': 'Students should not start working until their hire has been confirmed in Workday, to avoid any possible delay in pay if there are issues with the hire request or I-9 processing.'}, {'title': 'new students', 'question': 'I do not have my original documents for Section 2 of the Form I-9. Can I present a scan, picture or photocopy?', 'answer': 'No, we can only accept the true, physical document. We cannot accept scans, pictures or photocopies of I-9 supporting documents.'}, {'title': 'new students', 'question': 'I will not be on campus prior to my start date to submit my I-9 documents in person. Can I complete a remote I-9 or email the documents to you?', 'answer': 'No, we cannot verify your I-9 supporting documents remotely. For the safety of your identity, please do not email scanned copies of your Section 2 documents. Please bring original documents to the Student Employment Office once you arrive. Our office will be open during move-in week.'}, {'title': 'new students', 'question': 'How can I view my paystubs?', 'answer': \"To view your this year's paystub history, go to Workday and search\\xa0“My Payslip”\\xa0in the search bar.\\nTo access paystub history prior to this year, please navigate to Student Hub → Resources → Financial Services → Student Employee Self Service, and search “Pay Slips”.\"}, {'title': 'new students', 'question': 'Why am I unable to submit a timesheet?', 'answer': 'Students are paid on a bi-weekly pay schedule. Every pay week, the timesheet will be temporarily locked for processing payroll. If you have trouble entering time, please try again on Friday. Make sure you enter your hours by 10 AM Sunday morning every week so you can get paid on time.'}, {'title': 'new students', 'question': 'Can I keep my part-time job while going on Co-op?', 'answer': 'If your Co-op position is on-campus, please make sure you receive approval from your Co--op advisor regarding any possible program restrictions and communicate closely with both your Co-op supervisor and part-time supervisor, and make sure they are aware of your other on-campus positions and hours entered. There will be overtime charges if your total hours (Co-op + part time) exceed 40.'}], [{'title': 'international students', 'question': 'How can I apply for jobs?', 'answer': 'Go to Workday → Menu → Jobs and Career Hub → Student Employment → Click on the on-campus jobs or off-campus jobs.\\nFor co-op opportunities,\\xa0 please check NUworks.'}, {'title': 'international students', 'question': 'Why is my application automatically rejected?', 'answer': 'Students may be rejected from a job if they are not qualified, or if another candidate was more suitable for the position. Hiring managers make the final hiring decision.\\nIf you believe your applications are being rejected in error, please contact us.'}, {'title': 'international students', 'question': 'When can new students apply for jobs?', 'answer': 'Incoming students will be given access to Workday 20 days prior to the start of their program.'}, {'title': 'international students', 'question': 'Am I allowed to start working while my I-9 documents are processing?', 'answer': 'Students should not start working until their hire has been confirmed in Workday, to avoid any possible delay in pay if there are issues with the hire request or I-9 processing.'}, {'title': 'international students', 'question': 'I do not have my original documents for Section 2 of the Form I-9. Can I present a scan, picture or photocopy?', 'answer': 'No, we can only accept the true, physical document. We cannot accept scans, pictures or photocopies of I-9 supporting documents.'}, {'title': 'international students', 'question': 'I will not be on campus prior to my start date to submit my I-9 documents in person. Can I complete a remote I-9 or email the documents to you?', 'answer': 'No, we cannot verify your I-9 supporting documents remotely. For the safety of your identity, please do not email scanned copies of your Section 2 documents. Please bring original documents to the Student Employment Office once you arrive. Our office will be open during move-in week.'}, {'title': 'international students', 'question': 'How can I view my paystubs?', 'answer': \"To view your this year's paystub history, go to Workday and search\\xa0“My Payslip”\\xa0in the search bar.\\nTo access paystub history prior to this year, please navigate to Student Hub → Resources → Financial Services → Student Employee Self Service, and search “Pay Slips”.\"}, {'title': 'international students', 'question': 'Why am I unable to submit a timesheet?', 'answer': 'Students are paid on a bi-weekly pay schedule. Every pay week, the timesheet will be temporarily locked for processing payroll. If you have trouble entering time, please try again on Friday. Make sure you enter your hours by 10 AM Sunday morning every week so you can get paid on time.'}, {'title': 'international students', 'question': 'Can I keep my part-time job while going on Co-op?', 'answer': 'If your Co-op position is on-campus, please make sure you receive approval from your Co--op advisor regarding any possible program restrictions and communicate closely with both your Co-op supervisor and part-time supervisor, and make sure they are aware of your other on-campus positions and hours entered. There will be overtime charges if your total hours (Co-op + part time) exceed 40.'}], [{'title': 'international students', 'question': 'How can I apply for jobs?', 'answer': 'Go to Workday → Menu → Jobs and Career Hub → Student Employment → Click on the on-campus jobs or off-campus jobs.\\nFor co-op opportunities,\\xa0 please check NUworks.'}, {'title': 'international students', 'question': 'Why is my application automatically rejected?', 'answer': 'Students may be rejected from a job if they are not qualified, or if another candidate was more suitable for the position. Hiring managers make the final hiring decision.\\nIf you believe your applications are being rejected in error, please contact us.'}, {'title': 'international students', 'question': 'When can new students apply for jobs?', 'answer': 'Incoming students will be given access to Workday 20 days prior to the start of their program.'}, {'title': 'international students', 'question': 'Am I allowed to start working while my I-9 documents are processing?', 'answer': 'Students should not start working until their hire has been confirmed in Workday, to avoid any possible delay in pay if there are issues with the hire request or I-9 processing.'}, {'title': 'international students', 'question': 'I do not have my original documents for Section 2 of the Form I-9. Can I present a scan, picture or photocopy?', 'answer': 'No, we can only accept the true, physical document. We cannot accept scans, pictures or photocopies of I-9 supporting documents.'}, {'title': 'international students', 'question': 'I will not be on campus prior to my start date to submit my I-9 documents in person. Can I complete a remote I-9 or email the documents to you?', 'answer': 'No, we cannot verify your I-9 supporting documents remotely. For the safety of your identity, please do not email scanned copies of your Section 2 documents. Please bring original documents to the Student Employment Office once you arrive. Our office will be open during move-in week.'}, {'title': 'international students', 'question': 'How can I view my paystubs?', 'answer': \"To view your this year's paystub history, go to Workday and search\\xa0“My Payslip”\\xa0in the search bar.\\nTo access paystub history prior to this year, please navigate to Student Hub → Resources → Financial Services → Student Employee Self Service, and search “Pay Slips”.\"}, {'title': 'international students', 'question': 'Why am I unable to submit a timesheet?', 'answer': 'Students are paid on a bi-weekly pay schedule. Every pay week, the timesheet will be temporarily locked for processing payroll. If you have trouble entering time, please try again on Friday. Make sure you enter your hours by 10 AM Sunday morning every week so you can get paid on time.'}, {'title': 'international students', 'question': 'Can I keep my part-time job while going on Co-op?', 'answer': 'If your Co-op position is on-campus, please make sure you receive approval from your Co--op advisor regarding any possible program restrictions and communicate closely with both your Co-op supervisor and part-time supervisor, and make sure they are aware of your other on-campus positions and hours entered. There will be overtime charges if your total hours (Co-op + part time) exceed 40.'}], [{'title': 'international students', 'question': 'How can I apply for jobs?', 'answer': 'Go to Workday → Menu → Jobs and Career Hub → Student Employment → Click on the on-campus jobs or off-campus jobs.'}, {'title': 'international students', 'question': 'Why is my application automatically rejected?', 'answer': 'Students may be rejected from a job if they are not qualified, or if another candidate is more suitable for the position. Hiring managers make the final hiring decision.\\nIf you believe your applications are being rejected in error, please contact us.'}, {'title': 'international students', 'question': 'When can new students apply for jobs?', 'answer': 'Incoming students will be given access to Workday on August 16.'}, {'title': 'international students', 'question': 'How can I view my paystubs?', 'answer': 'To view your paystub history, please log in to ADP Canada TeamPay, following these instructions. The registration credentials should have been emailed to your student account prior to or on your first day.\\nTo access paystub history prior to this year, please navigate to Student Hub → Resources → Financial Services → Student Employee Self Service, and search “Pay Slips”.'}, {'title': 'international students', 'question': 'Why am I unable to submit a timesheet?', 'answer': 'Students are paid on a bi-weekly pay schedule. Every pay week, the timesheet will be temporarily locked for processing payroll. If you have trouble entering time, please try again on Friday. Make sure you enter your hours by 10 AM Sunday morning every week so you can get paid on time.'}, {'title': 'international students', 'question': 'Can I keep my part-time job while going on Co-op?', 'answer': 'If your Co-op position is on-campus, please make sure you receive approval from your Co-op advisor regarding any possible program restrictions, communicate closely with both your Co-op supervisor and part-time supervisor, and make sure they are aware of your other on-campus positions and hours entered. There will be overtime charges if your total hours (Co-op + part-time) exceed 40.'}], [{'title': 'international students', 'question': 'How can I apply for jobs?', 'answer': 'Go to Workday → Menu → Jobs and Career Hub → Student Employment → Click on the on-campus jobs or off-campus jobs.\\nFor co-op opportunities,\\xa0 please check NUworks.'}, {'title': 'international students', 'question': 'Why is my application automatically rejected?', 'answer': 'Students may be rejected from a job if they are not qualified, or if another candidate was more suitable for the position. Hiring managers make the final hiring decision.\\nIf you believe your applications are being rejected in error, please contact us.'}, {'title': 'international students', 'question': 'When can new students apply for jobs?', 'answer': 'Incoming students will be given access to Workday 20 days prior to the start of their program.'}, {'title': 'international students', 'question': 'Am I allowed to start working while my I-9 documents are processing?', 'answer': 'Students should not start working until their hire has been confirmed in Workday, to avoid any possible delay in pay if there are issues with the hire request or I-9 processing.'}, {'title': 'international students', 'question': 'I do not have my original documents for Section 2 of the Form I-9. Can I present a scan, picture or photocopy?', 'answer': 'No, we can only accept the true, physical document. We cannot accept scans, pictures or photocopies of I-9 supporting documents.'}, {'title': 'international students', 'question': 'I will not be on campus prior to my start date to submit my I-9 documents in person. Can I complete a remote I-9 or email the documents to you?', 'answer': 'No, we cannot verify your I-9 supporting documents remotely. For the safety of your identity, please do not email scanned copies of your Section 2 documents. Please bring original documents to the Student Employment Office once you arrive. Our office will be open during move-in week.'}, {'title': 'international students', 'question': 'How can I view my paystubs?', 'answer': \"To view your this year's paystub history, go to Workday and search\\xa0“My Payslip”\\xa0in the search bar.\\nTo access paystub history prior to this year, please navigate to Student Hub → Resources → Financial Services → Student Employee Self Service, and search “Pay Slips”.\"}, {'title': 'international students', 'question': 'Why am I unable to submit a timesheet?', 'answer': 'Students are paid on a bi-weekly pay schedule. Every pay week, the timesheet will be temporarily locked for processing payroll. If you have trouble entering time, please try again on Friday. Make sure you enter your hours by 10 AM Sunday morning every week so you can get paid on time.'}, {'title': 'international students', 'question': 'Can I keep my part-time job while going on Co-op?', 'answer': 'If your Co-op position is on-campus, please make sure you receive approval from your Co--op advisor regarding any possible program restrictions and communicate closely with both your Co-op supervisor and part-time supervisor, and make sure they are aware of your other on-campus positions and hours entered. There will be overtime charges if your total hours (Co-op + part time) exceed 40.'}]]\n"
     ]
    }
   ],
   "source": [
    "print(all_faqs)"
   ]
  },
  {
   "cell_type": "code",
   "execution_count": 28,
   "metadata": {},
   "outputs": [
    {
     "data": {
      "text/plain": [
       "[{'title': 'student temp jobs',\n",
       "  'question': 'How can I apply for jobs?',\n",
       "  'answer': 'Go to Workday → Menu → Jobs and Career Hub → Student Employment → Click on the on-campus jobs or off-campus jobs.\\nFor co-op opportunities,\\xa0 please check NUworks.'},\n",
       " {'title': 'student temp jobs',\n",
       "  'question': 'Why is my application automatically rejected?',\n",
       "  'answer': 'Students may be rejected from a job if they are not qualified, or if another candidate was more suitable for the position. Hiring managers make the final hiring decision.\\nIf you believe your applications are being rejected in error, please contact us.'},\n",
       " {'title': 'student temp jobs',\n",
       "  'question': 'When can new students apply for jobs?',\n",
       "  'answer': 'Incoming students will be given access to Workday 20 days prior to the start of their program.'},\n",
       " {'title': 'student temp jobs',\n",
       "  'question': 'Am I allowed to start working while my I-9 documents are processing?',\n",
       "  'answer': 'Students should not start working until their hire has been confirmed in Workday, to avoid any possible delay in pay if there are issues with the hire request or I-9 processing.'},\n",
       " {'title': 'student temp jobs',\n",
       "  'question': 'I do not have my original documents for Section 2 of the Form I-9. Can I present a scan, picture or photocopy?',\n",
       "  'answer': 'No, we can only accept the true, physical document. We cannot accept scans, pictures or photocopies of I-9 supporting documents.'},\n",
       " {'title': 'student temp jobs',\n",
       "  'question': 'I will not be on campus prior to my start date to submit my I-9 documents in person. Can I complete a remote I-9 or email the documents to you?',\n",
       "  'answer': 'No, we cannot verify your I-9 supporting documents remotely. For the safety of your identity, please do not email scanned copies of your Section 2 documents. Please bring original documents to the Student Employment Office once you arrive. Our office will be open during move-in week.'},\n",
       " {'title': 'student temp jobs',\n",
       "  'question': 'How can I view my paystubs?',\n",
       "  'answer': \"To view your this year's paystub history, go to Workday and search\\xa0“My Payslip”\\xa0in the search bar.\\nTo access paystub history prior to this year, please navigate to Student Hub → Resources → Financial Services → Student Employee Self Service, and search “Pay Slips”.\"},\n",
       " {'title': 'student temp jobs',\n",
       "  'question': 'Why am I unable to submit a timesheet?',\n",
       "  'answer': 'Students are paid on a bi-weekly pay schedule. Every pay week, the timesheet will be temporarily locked for processing payroll. If you have trouble entering time, please try again on Friday. Make sure you enter your hours by 10 AM Sunday morning every week so you can get paid on time.'},\n",
       " {'title': 'student temp jobs',\n",
       "  'question': 'Can I keep my part-time job while going on Co-op?',\n",
       "  'answer': 'If your Co-op position is on-campus, please make sure you receive approval from your Co--op advisor regarding any possible program restrictions and communicate closely with both your Co-op supervisor and part-time supervisor, and make sure they are aware of your other on-campus positions and hours entered. There will be overtime charges if your total hours (Co-op + part time) exceed 40.'}]"
      ]
     },
     "execution_count": 28,
     "metadata": {},
     "output_type": "execute_result"
    }
   ],
   "source": [
    "all_faqs[1]"
   ]
  },
  {
   "cell_type": "code",
   "execution_count": 31,
   "metadata": {},
   "outputs": [
    {
     "name": "stdout",
     "output_type": "stream",
     "text": [
      "FAQs have been saved to faqs.json.\n"
     ]
    }
   ],
   "source": [
    "import json\n",
    "def convert_to_json(faqs):\n",
    "    #convert and save the faqs to a json file\n",
    "    faqs_json = []\n",
    "    for faq in faqs:\n",
    "        for question in faq:\n",
    "            faq_json = {\n",
    "                'title': question['title'],\n",
    "                'question': question['question'],\n",
    "                'answer': question['answer']\n",
    "            }\n",
    "            faqs_json.append(faq_json)\n",
    "    return faqs_json\n",
    "\n",
    "faqs_json = convert_to_json(all_faqs)\n",
    "\n",
    "filename = 'faqs.json'\n",
    "    # Writing faqs_json list to a JSON file\n",
    "with open(filename, 'w', encoding='utf-8') as file:\n",
    "    # The `indent` parameter is optional but makes the file human-readable\n",
    "    json.dump(faqs_json, file, ensure_ascii=False, indent=4)\n",
    "\n",
    "print(f'FAQs have been saved to {filename}.')\n",
    "    #save faqs_json to a json file\n"
   ]
  }
 ],
 "metadata": {
  "kernelspec": {
   "display_name": "Python 3.7.11 ('smoothenv')",
   "language": "python",
   "name": "python3"
  },
  "language_info": {
   "codemirror_mode": {
    "name": "ipython",
    "version": 3
   },
   "file_extension": ".py",
   "mimetype": "text/x-python",
   "name": "python",
   "nbconvert_exporter": "python",
   "pygments_lexer": "ipython3",
   "version": "3.7.11"
  },
  "orig_nbformat": 4,
  "vscode": {
   "interpreter": {
    "hash": "ccbb5ec2d2a75591ebe5fca0a133e85ca5a4057852e563373f3397512e082f6c"
   }
  }
 },
 "nbformat": 4,
 "nbformat_minor": 2
}
