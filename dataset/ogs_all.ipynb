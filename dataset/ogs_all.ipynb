{
 "cells": [
  {
   "cell_type": "code",
   "execution_count": null,
   "metadata": {},
   "outputs": [],
   "source": []
  }
 ],
 "metadata": {
  "kernelspec": {
   "display_name": "Python 3.9.19 ('tf_smooth')",
   "language": "python",
   "name": "python3"
  },
  "language_info": {
   "name": "python",
   "version": "3.9.19"
  },
  "orig_nbformat": 4,
  "vscode": {
   "interpreter": {
    "hash": "86c3127b0ea2020da23c97b9b6b6246faff4ff0a136750c7c40b8a5ce98b7396"
   }
  }
 },
 "nbformat": 4,
 "nbformat_minor": 2
}
