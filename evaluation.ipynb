{
 "cells": [
  {
   "cell_type": "code",
   "execution_count": null,
   "metadata": {},
   "outputs": [],
   "source": [
    "from chatwithfaq import user_input"
   ]
  },
  {
   "cell_type": "code",
   "execution_count": 1,
   "metadata": {},
   "outputs": [],
   "source": [
    "#And rephrase each question using this function:\n",
    "\n",
    "def paraphrase(question,\n",
    "        num_beams=5,\n",
    "        num_beam_groups=5,\n",
    "        num_return_sequences=5,\n",
    "        repetition_penalty=10.0,\n",
    "        diversity_penalty=3.0,\n",
    "        no_repeat_ngram_size=2,\n",
    "        temperature=0.7,\n",
    "        max_length=128\n",
    "    ):\n",
    "        device = \"cuda\"\n",
    "        tokenizer = AutoTokenizer.from_pretrained(\"humarin/chatgpt_paraphraser_on_T5_base\")\n",
    "        model = AutoModelForSeq2SeqLM.from_pretrained(\"humarin/chatgpt_paraphraser_on_T5_base\").to(device)\n",
    "\n",
    "        input_ids = tokenizer(\n",
    "            f'paraphrase: {question}',\n",
    "            return_tensors=\"pt\", padding=\"longest\",\n",
    "            max_length=max_length,\n",
    "            truncation=True,\n",
    "        ).input_ids.to(device)\n",
    "\n",
    "        outputs = model.generate(\n",
    "            input_ids, temperature=temperature, repetition_penalty=repetition_penalty,\n",
    "            num_return_sequences=num_return_sequences, no_repeat_ngram_size=no_repeat_ngram_size,\n",
    "            num_beams=num_beams, num_beam_groups=num_beam_groups,\n",
    "            max_length=max_length, diversity_penalty=diversity_penalty\n",
    "        )\n",
    "\n",
    "        res = tokenizer.batch_decode(outputs, skip_special_tokens=True)\n",
    "\n",
    "        return res"
   ]
  },
  {
   "cell_type": "code",
   "execution_count": null,
   "metadata": {},
   "outputs": [],
   "source": [
    "import json\n",
    "\n",
    "with open('dataset/faqs.json', 'r') as file:\n",
    "    data = json.load(file)\n",
    "\n",
    "evaluation_results = []\n",
    "\n",
    "for item in data:\n",
    "    question = item['question']\n",
    "    answer = item['answer']\n",
    "    new_question = {'question':question, 'answer':answer}\n",
    "\n",
    "    #send the question key in item to the model\n",
    "    new_question['response'] = item['']\n",
    "    evaluation_results.append(new_question)"
   ]
  }
 ],
 "metadata": {
  "kernelspec": {
   "display_name": "Python 3.9.19 ('tf_smooth')",
   "language": "python",
   "name": "python3"
  },
  "language_info": {
   "codemirror_mode": {
    "name": "ipython",
    "version": 3
   },
   "file_extension": ".py",
   "mimetype": "text/x-python",
   "name": "python",
   "nbconvert_exporter": "python",
   "pygments_lexer": "ipython3",
   "version": "3.9.19"
  },
  "orig_nbformat": 4,
  "vscode": {
   "interpreter": {
    "hash": "86c3127b0ea2020da23c97b9b6b6246faff4ff0a136750c7c40b8a5ce98b7396"
   }
  }
 },
 "nbformat": 4,
 "nbformat_minor": 2
}
